{
  "cells": [
    {
      "cell_type": "markdown",
      "metadata": {
        "id": "view-in-github",
        "colab_type": "text"
      },
      "source": [
        "<a href=\"https://colab.research.google.com/github/2017710206255MN/Machine-Learning/blob/main/Week_10_Homework_2_All_algorithms.ipynb\" target=\"_parent\"><img src=\"https://colab.research.google.com/assets/colab-badge.svg\" alt=\"Open In Colab\"/></a>"
      ]
    },
    {
      "cell_type": "code",
      "execution_count": 277,
      "id": "dd93c8d8",
      "metadata": {
        "execution": {
          "iopub.execute_input": "2023-05-11T00:25:18.110775Z",
          "iopub.status.busy": "2023-05-11T00:25:18.110138Z",
          "iopub.status.idle": "2023-05-11T00:25:20.387905Z",
          "shell.execute_reply": "2023-05-11T00:25:20.386838Z"
        },
        "papermill": {
          "duration": 2.299545,
          "end_time": "2023-05-11T00:25:20.391023",
          "exception": false,
          "start_time": "2023-05-11T00:25:18.091478",
          "status": "completed"
        },
        "tags": [],
        "id": "dd93c8d8"
      },
      "outputs": [],
      "source": [
        "import numpy as np \n",
        "import pandas as pd \n",
        "import matplotlib.pyplot as plt \n",
        "import seaborn as sns \n",
        "import warnings\n",
        "warnings.filterwarnings(\"ignore\")\n",
        "from sklearn.model_selection import train_test_split \n",
        "from sklearn.linear_model import LogisticRegression\n",
        "from sklearn.tree import DecisionTreeClassifier\n",
        "from sklearn.ensemble import RandomForestClassifier \n",
        "from sklearn.svm import SVC\n",
        "from sklearn.naive_bayes import GaussianNB\n",
        "from sklearn.neighbors import KNeighborsClassifier\n",
        "from sklearn.linear_model import LinearRegression\n",
        "from sklearn.preprocessing import MinMaxScaler\n",
        "from sklearn import metrics\n",
        "from sklearn.metrics import accuracy_score \n",
        "from google.colab import drive"
      ]
    },
    {
      "cell_type": "code",
      "execution_count": 278,
      "id": "7b5c1cfc",
      "metadata": {
        "execution": {
          "iopub.execute_input": "2023-05-11T00:25:20.460909Z",
          "iopub.status.busy": "2023-05-11T00:25:20.459511Z",
          "iopub.status.idle": "2023-05-11T00:25:20.493934Z",
          "shell.execute_reply": "2023-05-11T00:25:20.492951Z"
        },
        "papermill": {
          "duration": 0.055885,
          "end_time": "2023-05-11T00:25:20.496996",
          "exception": false,
          "start_time": "2023-05-11T00:25:20.441111",
          "status": "completed"
        },
        "tags": [],
        "id": "7b5c1cfc",
        "colab": {
          "base_uri": "https://localhost:8080/"
        },
        "outputId": "839c1a7c-c3e7-4bd7-cd76-9fee43638fa7"
      },
      "outputs": [
        {
          "output_type": "stream",
          "name": "stdout",
          "text": [
            "Drive already mounted at /content/drive; to attempt to forcibly remount, call drive.mount(\"/content/drive\", force_remount=True).\n"
          ]
        }
      ],
      "source": [
        "drive.mount('/content/drive')\n",
        "data = pd.read_csv('/content/drive/MyDrive/Data/Wine.csv')"
      ]
    },
    {
      "cell_type": "code",
      "execution_count": 279,
      "id": "2699e335",
      "metadata": {
        "execution": {
          "iopub.execute_input": "2023-05-11T00:25:20.533100Z",
          "iopub.status.busy": "2023-05-11T00:25:20.532633Z",
          "iopub.status.idle": "2023-05-11T00:25:20.576415Z",
          "shell.execute_reply": "2023-05-11T00:25:20.575393Z"
        },
        "papermill": {
          "duration": 0.064964,
          "end_time": "2023-05-11T00:25:20.578908",
          "exception": false,
          "start_time": "2023-05-11T00:25:20.513944",
          "status": "completed"
        },
        "tags": [],
        "colab": {
          "base_uri": "https://localhost:8080/",
          "height": 424
        },
        "id": "2699e335",
        "outputId": "3d27a2f4-0aac-4182-e7a9-245d406e0d4e"
      },
      "outputs": [
        {
          "output_type": "execute_result",
          "data": {
            "text/plain": [
              "   fixed acidity  volatile acidity  citric acid  residual sugar  chlorides  \\\n",
              "0            7.4              0.70         0.00             1.9      0.076   \n",
              "1            7.8              0.88         0.00             2.6      0.098   \n",
              "2            7.8              0.76         0.04             2.3      0.092   \n",
              "3           11.2              0.28         0.56             1.9      0.075   \n",
              "4            7.4              0.70         0.00             1.9      0.076   \n",
              "5            7.4              0.66         0.00             1.8      0.075   \n",
              "6            7.9              0.60         0.06             1.6      0.069   \n",
              "7            7.3              0.65         0.00             1.2      0.065   \n",
              "8            7.8              0.58         0.02             2.0      0.073   \n",
              "9            7.5              0.50         0.36             6.1      0.071   \n",
              "\n",
              "   free sulfur dioxide  total sulfur dioxide  density    pH  sulphates  \\\n",
              "0                 11.0                  34.0   0.9978  3.51       0.56   \n",
              "1                 25.0                  67.0   0.9968  3.20       0.68   \n",
              "2                 15.0                  54.0   0.9970  3.26       0.65   \n",
              "3                 17.0                  60.0   0.9980  3.16       0.58   \n",
              "4                 11.0                  34.0   0.9978  3.51       0.56   \n",
              "5                 13.0                  40.0   0.9978  3.51       0.56   \n",
              "6                 15.0                  59.0   0.9964  3.30       0.46   \n",
              "7                 15.0                  21.0   0.9946  3.39       0.47   \n",
              "8                  9.0                  18.0   0.9968  3.36       0.57   \n",
              "9                 17.0                 102.0   0.9978  3.35       0.80   \n",
              "\n",
              "   alcohol  quality  \n",
              "0      9.4        5  \n",
              "1      9.8        5  \n",
              "2      9.8        5  \n",
              "3      9.8        6  \n",
              "4      9.4        5  \n",
              "5      9.4        5  \n",
              "6      9.4        5  \n",
              "7     10.0        7  \n",
              "8      9.5        7  \n",
              "9     10.5        5  "
            ],
            "text/html": [
              "\n",
              "  <div id=\"df-1a1f4f2e-b1a6-4e0c-83b5-d7a298e2a72f\">\n",
              "    <div class=\"colab-df-container\">\n",
              "      <div>\n",
              "<style scoped>\n",
              "    .dataframe tbody tr th:only-of-type {\n",
              "        vertical-align: middle;\n",
              "    }\n",
              "\n",
              "    .dataframe tbody tr th {\n",
              "        vertical-align: top;\n",
              "    }\n",
              "\n",
              "    .dataframe thead th {\n",
              "        text-align: right;\n",
              "    }\n",
              "</style>\n",
              "<table border=\"1\" class=\"dataframe\">\n",
              "  <thead>\n",
              "    <tr style=\"text-align: right;\">\n",
              "      <th></th>\n",
              "      <th>fixed acidity</th>\n",
              "      <th>volatile acidity</th>\n",
              "      <th>citric acid</th>\n",
              "      <th>residual sugar</th>\n",
              "      <th>chlorides</th>\n",
              "      <th>free sulfur dioxide</th>\n",
              "      <th>total sulfur dioxide</th>\n",
              "      <th>density</th>\n",
              "      <th>pH</th>\n",
              "      <th>sulphates</th>\n",
              "      <th>alcohol</th>\n",
              "      <th>quality</th>\n",
              "    </tr>\n",
              "  </thead>\n",
              "  <tbody>\n",
              "    <tr>\n",
              "      <th>0</th>\n",
              "      <td>7.4</td>\n",
              "      <td>0.70</td>\n",
              "      <td>0.00</td>\n",
              "      <td>1.9</td>\n",
              "      <td>0.076</td>\n",
              "      <td>11.0</td>\n",
              "      <td>34.0</td>\n",
              "      <td>0.9978</td>\n",
              "      <td>3.51</td>\n",
              "      <td>0.56</td>\n",
              "      <td>9.4</td>\n",
              "      <td>5</td>\n",
              "    </tr>\n",
              "    <tr>\n",
              "      <th>1</th>\n",
              "      <td>7.8</td>\n",
              "      <td>0.88</td>\n",
              "      <td>0.00</td>\n",
              "      <td>2.6</td>\n",
              "      <td>0.098</td>\n",
              "      <td>25.0</td>\n",
              "      <td>67.0</td>\n",
              "      <td>0.9968</td>\n",
              "      <td>3.20</td>\n",
              "      <td>0.68</td>\n",
              "      <td>9.8</td>\n",
              "      <td>5</td>\n",
              "    </tr>\n",
              "    <tr>\n",
              "      <th>2</th>\n",
              "      <td>7.8</td>\n",
              "      <td>0.76</td>\n",
              "      <td>0.04</td>\n",
              "      <td>2.3</td>\n",
              "      <td>0.092</td>\n",
              "      <td>15.0</td>\n",
              "      <td>54.0</td>\n",
              "      <td>0.9970</td>\n",
              "      <td>3.26</td>\n",
              "      <td>0.65</td>\n",
              "      <td>9.8</td>\n",
              "      <td>5</td>\n",
              "    </tr>\n",
              "    <tr>\n",
              "      <th>3</th>\n",
              "      <td>11.2</td>\n",
              "      <td>0.28</td>\n",
              "      <td>0.56</td>\n",
              "      <td>1.9</td>\n",
              "      <td>0.075</td>\n",
              "      <td>17.0</td>\n",
              "      <td>60.0</td>\n",
              "      <td>0.9980</td>\n",
              "      <td>3.16</td>\n",
              "      <td>0.58</td>\n",
              "      <td>9.8</td>\n",
              "      <td>6</td>\n",
              "    </tr>\n",
              "    <tr>\n",
              "      <th>4</th>\n",
              "      <td>7.4</td>\n",
              "      <td>0.70</td>\n",
              "      <td>0.00</td>\n",
              "      <td>1.9</td>\n",
              "      <td>0.076</td>\n",
              "      <td>11.0</td>\n",
              "      <td>34.0</td>\n",
              "      <td>0.9978</td>\n",
              "      <td>3.51</td>\n",
              "      <td>0.56</td>\n",
              "      <td>9.4</td>\n",
              "      <td>5</td>\n",
              "    </tr>\n",
              "    <tr>\n",
              "      <th>5</th>\n",
              "      <td>7.4</td>\n",
              "      <td>0.66</td>\n",
              "      <td>0.00</td>\n",
              "      <td>1.8</td>\n",
              "      <td>0.075</td>\n",
              "      <td>13.0</td>\n",
              "      <td>40.0</td>\n",
              "      <td>0.9978</td>\n",
              "      <td>3.51</td>\n",
              "      <td>0.56</td>\n",
              "      <td>9.4</td>\n",
              "      <td>5</td>\n",
              "    </tr>\n",
              "    <tr>\n",
              "      <th>6</th>\n",
              "      <td>7.9</td>\n",
              "      <td>0.60</td>\n",
              "      <td>0.06</td>\n",
              "      <td>1.6</td>\n",
              "      <td>0.069</td>\n",
              "      <td>15.0</td>\n",
              "      <td>59.0</td>\n",
              "      <td>0.9964</td>\n",
              "      <td>3.30</td>\n",
              "      <td>0.46</td>\n",
              "      <td>9.4</td>\n",
              "      <td>5</td>\n",
              "    </tr>\n",
              "    <tr>\n",
              "      <th>7</th>\n",
              "      <td>7.3</td>\n",
              "      <td>0.65</td>\n",
              "      <td>0.00</td>\n",
              "      <td>1.2</td>\n",
              "      <td>0.065</td>\n",
              "      <td>15.0</td>\n",
              "      <td>21.0</td>\n",
              "      <td>0.9946</td>\n",
              "      <td>3.39</td>\n",
              "      <td>0.47</td>\n",
              "      <td>10.0</td>\n",
              "      <td>7</td>\n",
              "    </tr>\n",
              "    <tr>\n",
              "      <th>8</th>\n",
              "      <td>7.8</td>\n",
              "      <td>0.58</td>\n",
              "      <td>0.02</td>\n",
              "      <td>2.0</td>\n",
              "      <td>0.073</td>\n",
              "      <td>9.0</td>\n",
              "      <td>18.0</td>\n",
              "      <td>0.9968</td>\n",
              "      <td>3.36</td>\n",
              "      <td>0.57</td>\n",
              "      <td>9.5</td>\n",
              "      <td>7</td>\n",
              "    </tr>\n",
              "    <tr>\n",
              "      <th>9</th>\n",
              "      <td>7.5</td>\n",
              "      <td>0.50</td>\n",
              "      <td>0.36</td>\n",
              "      <td>6.1</td>\n",
              "      <td>0.071</td>\n",
              "      <td>17.0</td>\n",
              "      <td>102.0</td>\n",
              "      <td>0.9978</td>\n",
              "      <td>3.35</td>\n",
              "      <td>0.80</td>\n",
              "      <td>10.5</td>\n",
              "      <td>5</td>\n",
              "    </tr>\n",
              "  </tbody>\n",
              "</table>\n",
              "</div>\n",
              "      <button class=\"colab-df-convert\" onclick=\"convertToInteractive('df-1a1f4f2e-b1a6-4e0c-83b5-d7a298e2a72f')\"\n",
              "              title=\"Convert this dataframe to an interactive table.\"\n",
              "              style=\"display:none;\">\n",
              "        \n",
              "  <svg xmlns=\"http://www.w3.org/2000/svg\" height=\"24px\"viewBox=\"0 0 24 24\"\n",
              "       width=\"24px\">\n",
              "    <path d=\"M0 0h24v24H0V0z\" fill=\"none\"/>\n",
              "    <path d=\"M18.56 5.44l.94 2.06.94-2.06 2.06-.94-2.06-.94-.94-2.06-.94 2.06-2.06.94zm-11 1L8.5 8.5l.94-2.06 2.06-.94-2.06-.94L8.5 2.5l-.94 2.06-2.06.94zm10 10l.94 2.06.94-2.06 2.06-.94-2.06-.94-.94-2.06-.94 2.06-2.06.94z\"/><path d=\"M17.41 7.96l-1.37-1.37c-.4-.4-.92-.59-1.43-.59-.52 0-1.04.2-1.43.59L10.3 9.45l-7.72 7.72c-.78.78-.78 2.05 0 2.83L4 21.41c.39.39.9.59 1.41.59.51 0 1.02-.2 1.41-.59l7.78-7.78 2.81-2.81c.8-.78.8-2.07 0-2.86zM5.41 20L4 18.59l7.72-7.72 1.47 1.35L5.41 20z\"/>\n",
              "  </svg>\n",
              "      </button>\n",
              "      \n",
              "  <style>\n",
              "    .colab-df-container {\n",
              "      display:flex;\n",
              "      flex-wrap:wrap;\n",
              "      gap: 12px;\n",
              "    }\n",
              "\n",
              "    .colab-df-convert {\n",
              "      background-color: #E8F0FE;\n",
              "      border: none;\n",
              "      border-radius: 50%;\n",
              "      cursor: pointer;\n",
              "      display: none;\n",
              "      fill: #1967D2;\n",
              "      height: 32px;\n",
              "      padding: 0 0 0 0;\n",
              "      width: 32px;\n",
              "    }\n",
              "\n",
              "    .colab-df-convert:hover {\n",
              "      background-color: #E2EBFA;\n",
              "      box-shadow: 0px 1px 2px rgba(60, 64, 67, 0.3), 0px 1px 3px 1px rgba(60, 64, 67, 0.15);\n",
              "      fill: #174EA6;\n",
              "    }\n",
              "\n",
              "    [theme=dark] .colab-df-convert {\n",
              "      background-color: #3B4455;\n",
              "      fill: #D2E3FC;\n",
              "    }\n",
              "\n",
              "    [theme=dark] .colab-df-convert:hover {\n",
              "      background-color: #434B5C;\n",
              "      box-shadow: 0px 1px 3px 1px rgba(0, 0, 0, 0.15);\n",
              "      filter: drop-shadow(0px 1px 2px rgba(0, 0, 0, 0.3));\n",
              "      fill: #FFFFFF;\n",
              "    }\n",
              "  </style>\n",
              "\n",
              "      <script>\n",
              "        const buttonEl =\n",
              "          document.querySelector('#df-1a1f4f2e-b1a6-4e0c-83b5-d7a298e2a72f button.colab-df-convert');\n",
              "        buttonEl.style.display =\n",
              "          google.colab.kernel.accessAllowed ? 'block' : 'none';\n",
              "\n",
              "        async function convertToInteractive(key) {\n",
              "          const element = document.querySelector('#df-1a1f4f2e-b1a6-4e0c-83b5-d7a298e2a72f');\n",
              "          const dataTable =\n",
              "            await google.colab.kernel.invokeFunction('convertToInteractive',\n",
              "                                                     [key], {});\n",
              "          if (!dataTable) return;\n",
              "\n",
              "          const docLinkHtml = 'Like what you see? Visit the ' +\n",
              "            '<a target=\"_blank\" href=https://colab.research.google.com/notebooks/data_table.ipynb>data table notebook</a>'\n",
              "            + ' to learn more about interactive tables.';\n",
              "          element.innerHTML = '';\n",
              "          dataTable['output_type'] = 'display_data';\n",
              "          await google.colab.output.renderOutput(dataTable, element);\n",
              "          const docLink = document.createElement('div');\n",
              "          docLink.innerHTML = docLinkHtml;\n",
              "          element.appendChild(docLink);\n",
              "        }\n",
              "      </script>\n",
              "    </div>\n",
              "  </div>\n",
              "  "
            ]
          },
          "metadata": {},
          "execution_count": 279
        }
      ],
      "source": [
        "data.head(10)"
      ]
    },
    {
      "cell_type": "code",
      "execution_count": 280,
      "id": "4b9ccf2e",
      "metadata": {
        "execution": {
          "iopub.execute_input": "2023-05-11T00:25:20.659277Z",
          "iopub.status.busy": "2023-05-11T00:25:20.658517Z",
          "iopub.status.idle": "2023-05-11T00:25:20.689550Z",
          "shell.execute_reply": "2023-05-11T00:25:20.688021Z"
        },
        "papermill": {
          "duration": 0.053007,
          "end_time": "2023-05-11T00:25:20.692719",
          "exception": false,
          "start_time": "2023-05-11T00:25:20.639712",
          "status": "completed"
        },
        "tags": [],
        "colab": {
          "base_uri": "https://localhost:8080/"
        },
        "id": "4b9ccf2e",
        "outputId": "f7476c02-d19b-48c7-86bf-6d600968c8c0"
      },
      "outputs": [
        {
          "output_type": "stream",
          "name": "stdout",
          "text": [
            "<class 'pandas.core.frame.DataFrame'>\n",
            "RangeIndex: 1599 entries, 0 to 1598\n",
            "Data columns (total 12 columns):\n",
            " #   Column                Non-Null Count  Dtype  \n",
            "---  ------                --------------  -----  \n",
            " 0   fixed acidity         1599 non-null   float64\n",
            " 1   volatile acidity      1599 non-null   float64\n",
            " 2   citric acid           1599 non-null   float64\n",
            " 3   residual sugar        1599 non-null   float64\n",
            " 4   chlorides             1599 non-null   float64\n",
            " 5   free sulfur dioxide   1599 non-null   float64\n",
            " 6   total sulfur dioxide  1599 non-null   float64\n",
            " 7   density               1599 non-null   float64\n",
            " 8   pH                    1599 non-null   float64\n",
            " 9   sulphates             1599 non-null   float64\n",
            " 10  alcohol               1599 non-null   float64\n",
            " 11  quality               1599 non-null   int64  \n",
            "dtypes: float64(11), int64(1)\n",
            "memory usage: 150.0 KB\n"
          ]
        }
      ],
      "source": [
        "data.info()"
      ]
    },
    {
      "cell_type": "code",
      "execution_count": 281,
      "id": "51f83037",
      "metadata": {
        "execution": {
          "iopub.execute_input": "2023-05-11T00:25:20.730987Z",
          "iopub.status.busy": "2023-05-11T00:25:20.729533Z",
          "iopub.status.idle": "2023-05-11T00:25:20.740546Z",
          "shell.execute_reply": "2023-05-11T00:25:20.739232Z"
        },
        "papermill": {
          "duration": 0.032982,
          "end_time": "2023-05-11T00:25:20.743217",
          "exception": false,
          "start_time": "2023-05-11T00:25:20.710235",
          "status": "completed"
        },
        "tags": [],
        "colab": {
          "base_uri": "https://localhost:8080/"
        },
        "id": "51f83037",
        "outputId": "d613579f-75e9-4fda-d098-b463ae8109ce"
      },
      "outputs": [
        {
          "output_type": "execute_result",
          "data": {
            "text/plain": [
              "fixed acidity           0\n",
              "volatile acidity        0\n",
              "citric acid             0\n",
              "residual sugar          0\n",
              "chlorides               0\n",
              "free sulfur dioxide     0\n",
              "total sulfur dioxide    0\n",
              "density                 0\n",
              "pH                      0\n",
              "sulphates               0\n",
              "alcohol                 0\n",
              "quality                 0\n",
              "dtype: int64"
            ]
          },
          "metadata": {},
          "execution_count": 281
        }
      ],
      "source": [
        "data.isnull().sum()"
      ]
    },
    {
      "cell_type": "code",
      "execution_count": 282,
      "id": "538b70f4",
      "metadata": {
        "execution": {
          "iopub.execute_input": "2023-05-11T00:25:20.851800Z",
          "iopub.status.busy": "2023-05-11T00:25:20.850155Z",
          "iopub.status.idle": "2023-05-11T00:25:20.910364Z",
          "shell.execute_reply": "2023-05-11T00:25:20.909022Z"
        },
        "papermill": {
          "duration": 0.082813,
          "end_time": "2023-05-11T00:25:20.913553",
          "exception": false,
          "start_time": "2023-05-11T00:25:20.830740",
          "status": "completed"
        },
        "tags": [],
        "colab": {
          "base_uri": "https://localhost:8080/",
          "height": 379
        },
        "id": "538b70f4",
        "outputId": "c91bee1f-47b0-43b4-daff-c91c7fb02ca6"
      },
      "outputs": [
        {
          "output_type": "execute_result",
          "data": {
            "text/plain": [
              "       fixed acidity  volatile acidity  citric acid  residual sugar  \\\n",
              "count    1599.000000       1599.000000  1599.000000     1599.000000   \n",
              "mean        8.319637          0.527821     0.270976        2.538806   \n",
              "std         1.741096          0.179060     0.194801        1.409928   \n",
              "min         4.600000          0.120000     0.000000        0.900000   \n",
              "25%         7.100000          0.390000     0.090000        1.900000   \n",
              "50%         7.900000          0.520000     0.260000        2.200000   \n",
              "75%         9.200000          0.640000     0.420000        2.600000   \n",
              "max        15.900000          1.580000     1.000000       15.500000   \n",
              "\n",
              "         chlorides  free sulfur dioxide  total sulfur dioxide      density  \\\n",
              "count  1599.000000          1599.000000           1599.000000  1599.000000   \n",
              "mean      0.087467            15.874922             46.467792     0.996747   \n",
              "std       0.047065            10.460157             32.895324     0.001887   \n",
              "min       0.012000             1.000000              6.000000     0.990070   \n",
              "25%       0.070000             7.000000             22.000000     0.995600   \n",
              "50%       0.079000            14.000000             38.000000     0.996750   \n",
              "75%       0.090000            21.000000             62.000000     0.997835   \n",
              "max       0.611000            72.000000            289.000000     1.003690   \n",
              "\n",
              "                pH    sulphates      alcohol      quality  \n",
              "count  1599.000000  1599.000000  1599.000000  1599.000000  \n",
              "mean      3.311113     0.658149    10.422983     5.636023  \n",
              "std       0.154386     0.169507     1.065668     0.807569  \n",
              "min       2.740000     0.330000     8.400000     3.000000  \n",
              "25%       3.210000     0.550000     9.500000     5.000000  \n",
              "50%       3.310000     0.620000    10.200000     6.000000  \n",
              "75%       3.400000     0.730000    11.100000     6.000000  \n",
              "max       4.010000     2.000000    14.900000     8.000000  "
            ],
            "text/html": [
              "\n",
              "  <div id=\"df-bdf1f470-c13e-4313-93fd-6eff45916e4a\">\n",
              "    <div class=\"colab-df-container\">\n",
              "      <div>\n",
              "<style scoped>\n",
              "    .dataframe tbody tr th:only-of-type {\n",
              "        vertical-align: middle;\n",
              "    }\n",
              "\n",
              "    .dataframe tbody tr th {\n",
              "        vertical-align: top;\n",
              "    }\n",
              "\n",
              "    .dataframe thead th {\n",
              "        text-align: right;\n",
              "    }\n",
              "</style>\n",
              "<table border=\"1\" class=\"dataframe\">\n",
              "  <thead>\n",
              "    <tr style=\"text-align: right;\">\n",
              "      <th></th>\n",
              "      <th>fixed acidity</th>\n",
              "      <th>volatile acidity</th>\n",
              "      <th>citric acid</th>\n",
              "      <th>residual sugar</th>\n",
              "      <th>chlorides</th>\n",
              "      <th>free sulfur dioxide</th>\n",
              "      <th>total sulfur dioxide</th>\n",
              "      <th>density</th>\n",
              "      <th>pH</th>\n",
              "      <th>sulphates</th>\n",
              "      <th>alcohol</th>\n",
              "      <th>quality</th>\n",
              "    </tr>\n",
              "  </thead>\n",
              "  <tbody>\n",
              "    <tr>\n",
              "      <th>count</th>\n",
              "      <td>1599.000000</td>\n",
              "      <td>1599.000000</td>\n",
              "      <td>1599.000000</td>\n",
              "      <td>1599.000000</td>\n",
              "      <td>1599.000000</td>\n",
              "      <td>1599.000000</td>\n",
              "      <td>1599.000000</td>\n",
              "      <td>1599.000000</td>\n",
              "      <td>1599.000000</td>\n",
              "      <td>1599.000000</td>\n",
              "      <td>1599.000000</td>\n",
              "      <td>1599.000000</td>\n",
              "    </tr>\n",
              "    <tr>\n",
              "      <th>mean</th>\n",
              "      <td>8.319637</td>\n",
              "      <td>0.527821</td>\n",
              "      <td>0.270976</td>\n",
              "      <td>2.538806</td>\n",
              "      <td>0.087467</td>\n",
              "      <td>15.874922</td>\n",
              "      <td>46.467792</td>\n",
              "      <td>0.996747</td>\n",
              "      <td>3.311113</td>\n",
              "      <td>0.658149</td>\n",
              "      <td>10.422983</td>\n",
              "      <td>5.636023</td>\n",
              "    </tr>\n",
              "    <tr>\n",
              "      <th>std</th>\n",
              "      <td>1.741096</td>\n",
              "      <td>0.179060</td>\n",
              "      <td>0.194801</td>\n",
              "      <td>1.409928</td>\n",
              "      <td>0.047065</td>\n",
              "      <td>10.460157</td>\n",
              "      <td>32.895324</td>\n",
              "      <td>0.001887</td>\n",
              "      <td>0.154386</td>\n",
              "      <td>0.169507</td>\n",
              "      <td>1.065668</td>\n",
              "      <td>0.807569</td>\n",
              "    </tr>\n",
              "    <tr>\n",
              "      <th>min</th>\n",
              "      <td>4.600000</td>\n",
              "      <td>0.120000</td>\n",
              "      <td>0.000000</td>\n",
              "      <td>0.900000</td>\n",
              "      <td>0.012000</td>\n",
              "      <td>1.000000</td>\n",
              "      <td>6.000000</td>\n",
              "      <td>0.990070</td>\n",
              "      <td>2.740000</td>\n",
              "      <td>0.330000</td>\n",
              "      <td>8.400000</td>\n",
              "      <td>3.000000</td>\n",
              "    </tr>\n",
              "    <tr>\n",
              "      <th>25%</th>\n",
              "      <td>7.100000</td>\n",
              "      <td>0.390000</td>\n",
              "      <td>0.090000</td>\n",
              "      <td>1.900000</td>\n",
              "      <td>0.070000</td>\n",
              "      <td>7.000000</td>\n",
              "      <td>22.000000</td>\n",
              "      <td>0.995600</td>\n",
              "      <td>3.210000</td>\n",
              "      <td>0.550000</td>\n",
              "      <td>9.500000</td>\n",
              "      <td>5.000000</td>\n",
              "    </tr>\n",
              "    <tr>\n",
              "      <th>50%</th>\n",
              "      <td>7.900000</td>\n",
              "      <td>0.520000</td>\n",
              "      <td>0.260000</td>\n",
              "      <td>2.200000</td>\n",
              "      <td>0.079000</td>\n",
              "      <td>14.000000</td>\n",
              "      <td>38.000000</td>\n",
              "      <td>0.996750</td>\n",
              "      <td>3.310000</td>\n",
              "      <td>0.620000</td>\n",
              "      <td>10.200000</td>\n",
              "      <td>6.000000</td>\n",
              "    </tr>\n",
              "    <tr>\n",
              "      <th>75%</th>\n",
              "      <td>9.200000</td>\n",
              "      <td>0.640000</td>\n",
              "      <td>0.420000</td>\n",
              "      <td>2.600000</td>\n",
              "      <td>0.090000</td>\n",
              "      <td>21.000000</td>\n",
              "      <td>62.000000</td>\n",
              "      <td>0.997835</td>\n",
              "      <td>3.400000</td>\n",
              "      <td>0.730000</td>\n",
              "      <td>11.100000</td>\n",
              "      <td>6.000000</td>\n",
              "    </tr>\n",
              "    <tr>\n",
              "      <th>max</th>\n",
              "      <td>15.900000</td>\n",
              "      <td>1.580000</td>\n",
              "      <td>1.000000</td>\n",
              "      <td>15.500000</td>\n",
              "      <td>0.611000</td>\n",
              "      <td>72.000000</td>\n",
              "      <td>289.000000</td>\n",
              "      <td>1.003690</td>\n",
              "      <td>4.010000</td>\n",
              "      <td>2.000000</td>\n",
              "      <td>14.900000</td>\n",
              "      <td>8.000000</td>\n",
              "    </tr>\n",
              "  </tbody>\n",
              "</table>\n",
              "</div>\n",
              "      <button class=\"colab-df-convert\" onclick=\"convertToInteractive('df-bdf1f470-c13e-4313-93fd-6eff45916e4a')\"\n",
              "              title=\"Convert this dataframe to an interactive table.\"\n",
              "              style=\"display:none;\">\n",
              "        \n",
              "  <svg xmlns=\"http://www.w3.org/2000/svg\" height=\"24px\"viewBox=\"0 0 24 24\"\n",
              "       width=\"24px\">\n",
              "    <path d=\"M0 0h24v24H0V0z\" fill=\"none\"/>\n",
              "    <path d=\"M18.56 5.44l.94 2.06.94-2.06 2.06-.94-2.06-.94-.94-2.06-.94 2.06-2.06.94zm-11 1L8.5 8.5l.94-2.06 2.06-.94-2.06-.94L8.5 2.5l-.94 2.06-2.06.94zm10 10l.94 2.06.94-2.06 2.06-.94-2.06-.94-.94-2.06-.94 2.06-2.06.94z\"/><path d=\"M17.41 7.96l-1.37-1.37c-.4-.4-.92-.59-1.43-.59-.52 0-1.04.2-1.43.59L10.3 9.45l-7.72 7.72c-.78.78-.78 2.05 0 2.83L4 21.41c.39.39.9.59 1.41.59.51 0 1.02-.2 1.41-.59l7.78-7.78 2.81-2.81c.8-.78.8-2.07 0-2.86zM5.41 20L4 18.59l7.72-7.72 1.47 1.35L5.41 20z\"/>\n",
              "  </svg>\n",
              "      </button>\n",
              "      \n",
              "  <style>\n",
              "    .colab-df-container {\n",
              "      display:flex;\n",
              "      flex-wrap:wrap;\n",
              "      gap: 12px;\n",
              "    }\n",
              "\n",
              "    .colab-df-convert {\n",
              "      background-color: #E8F0FE;\n",
              "      border: none;\n",
              "      border-radius: 50%;\n",
              "      cursor: pointer;\n",
              "      display: none;\n",
              "      fill: #1967D2;\n",
              "      height: 32px;\n",
              "      padding: 0 0 0 0;\n",
              "      width: 32px;\n",
              "    }\n",
              "\n",
              "    .colab-df-convert:hover {\n",
              "      background-color: #E2EBFA;\n",
              "      box-shadow: 0px 1px 2px rgba(60, 64, 67, 0.3), 0px 1px 3px 1px rgba(60, 64, 67, 0.15);\n",
              "      fill: #174EA6;\n",
              "    }\n",
              "\n",
              "    [theme=dark] .colab-df-convert {\n",
              "      background-color: #3B4455;\n",
              "      fill: #D2E3FC;\n",
              "    }\n",
              "\n",
              "    [theme=dark] .colab-df-convert:hover {\n",
              "      background-color: #434B5C;\n",
              "      box-shadow: 0px 1px 3px 1px rgba(0, 0, 0, 0.15);\n",
              "      filter: drop-shadow(0px 1px 2px rgba(0, 0, 0, 0.3));\n",
              "      fill: #FFFFFF;\n",
              "    }\n",
              "  </style>\n",
              "\n",
              "      <script>\n",
              "        const buttonEl =\n",
              "          document.querySelector('#df-bdf1f470-c13e-4313-93fd-6eff45916e4a button.colab-df-convert');\n",
              "        buttonEl.style.display =\n",
              "          google.colab.kernel.accessAllowed ? 'block' : 'none';\n",
              "\n",
              "        async function convertToInteractive(key) {\n",
              "          const element = document.querySelector('#df-bdf1f470-c13e-4313-93fd-6eff45916e4a');\n",
              "          const dataTable =\n",
              "            await google.colab.kernel.invokeFunction('convertToInteractive',\n",
              "                                                     [key], {});\n",
              "          if (!dataTable) return;\n",
              "\n",
              "          const docLinkHtml = 'Like what you see? Visit the ' +\n",
              "            '<a target=\"_blank\" href=https://colab.research.google.com/notebooks/data_table.ipynb>data table notebook</a>'\n",
              "            + ' to learn more about interactive tables.';\n",
              "          element.innerHTML = '';\n",
              "          dataTable['output_type'] = 'display_data';\n",
              "          await google.colab.output.renderOutput(dataTable, element);\n",
              "          const docLink = document.createElement('div');\n",
              "          docLink.innerHTML = docLinkHtml;\n",
              "          element.appendChild(docLink);\n",
              "        }\n",
              "      </script>\n",
              "    </div>\n",
              "  </div>\n",
              "  "
            ]
          },
          "metadata": {},
          "execution_count": 282
        }
      ],
      "source": [
        "data.describe()"
      ]
    },
    {
      "cell_type": "code",
      "execution_count": 283,
      "id": "3886741e",
      "metadata": {
        "execution": {
          "iopub.execute_input": "2023-05-11T00:25:20.953726Z",
          "iopub.status.busy": "2023-05-11T00:25:20.953178Z",
          "iopub.status.idle": "2023-05-11T00:25:21.280716Z",
          "shell.execute_reply": "2023-05-11T00:25:21.279175Z"
        },
        "papermill": {
          "duration": 0.350993,
          "end_time": "2023-05-11T00:25:21.283659",
          "exception": false,
          "start_time": "2023-05-11T00:25:20.932666",
          "status": "completed"
        },
        "tags": [],
        "colab": {
          "base_uri": "https://localhost:8080/",
          "height": 524
        },
        "id": "3886741e",
        "outputId": "355286d4-7678-4815-8c64-f0b5d4359b1c"
      },
      "outputs": [
        {
          "output_type": "execute_result",
          "data": {
            "text/plain": [
              "<seaborn.axisgrid.FacetGrid at 0x7f02ac49f1c0>"
            ]
          },
          "metadata": {},
          "execution_count": 283
        },
        {
          "output_type": "display_data",
          "data": {
            "text/plain": [
              "<Figure size 500x500 with 1 Axes>"
            ],
            "image/png": "[encoded data removed]"
          },
          "metadata": {}
        }
      ],
      "source": [
        "sns.catplot(x=\"quality\", data=data, kind=\"count\")"
      ]
    },
    {
      "cell_type": "code",
      "execution_count": 284,
      "id": "ec44c624",
      "metadata": {
        "execution": {
          "iopub.execute_input": "2023-05-11T00:25:21.322463Z",
          "iopub.status.busy": "2023-05-11T00:25:21.322055Z",
          "iopub.status.idle": "2023-05-11T00:25:21.812176Z",
          "shell.execute_reply": "2023-05-11T00:25:21.810651Z"
        },
        "papermill": {
          "duration": 0.51273,
          "end_time": "2023-05-11T00:25:21.815368",
          "exception": false,
          "start_time": "2023-05-11T00:25:21.302638",
          "status": "completed"
        },
        "tags": [],
        "colab": {
          "base_uri": "https://localhost:8080/",
          "height": 483
        },
        "id": "ec44c624",
        "outputId": "2f327e97-347d-4488-aa8f-7dc24342bd57"
      },
      "outputs": [
        {
          "output_type": "execute_result",
          "data": {
            "text/plain": [
              "<Axes: xlabel='quality', ylabel='volatile acidity'>"
            ]
          },
          "metadata": {},
          "execution_count": 284
        },
        {
          "output_type": "display_data",
          "data": {
            "text/plain": [
              "<Figure size 500x500 with 1 Axes>"
            ],
            "image/png": "[encoded data removed]"
          },
          "metadata": {}
        }
      ],
      "source": [
        "plot = plt.figure(figsize=(5,5))\n",
        "sns.barplot(x=\"quality\", y=\"volatile acidity\", data=data)"
      ]
    },
    {
      "cell_type": "code",
      "execution_count": 285,
      "id": "e5ac1419",
      "metadata": {
        "execution": {
          "iopub.execute_input": "2023-05-11T00:25:21.892411Z",
          "iopub.status.busy": "2023-05-11T00:25:21.891975Z",
          "iopub.status.idle": "2023-05-11T00:25:22.365191Z",
          "shell.execute_reply": "2023-05-11T00:25:22.363928Z"
        },
        "papermill": {
          "duration": 0.496308,
          "end_time": "2023-05-11T00:25:22.367964",
          "exception": false,
          "start_time": "2023-05-11T00:25:21.871656",
          "status": "completed"
        },
        "tags": [],
        "colab": {
          "base_uri": "https://localhost:8080/",
          "height": 483
        },
        "id": "e5ac1419",
        "outputId": "aa392794-24e8-44be-d5f6-9d2423e8629f"
      },
      "outputs": [
        {
          "output_type": "execute_result",
          "data": {
            "text/plain": [
              "<Axes: xlabel='quality', ylabel='citric acid'>"
            ]
          },
          "metadata": {},
          "execution_count": 285
        },
        {
          "output_type": "display_data",
          "data": {
            "text/plain": [
              "<Figure size 500x500 with 1 Axes>"
            ],
            "image/png": "[encoded data removed]"
          },
          "metadata": {}
        }
      ],
      "source": [
        "plot = plt.figure(figsize=(5,5))\n",
        "sns.barplot(x=\"quality\", y=\"citric acid\", data=data)"
      ]
    },
    {
      "cell_type": "code",
      "execution_count": 286,
      "id": "915aceb3",
      "metadata": {
        "execution": {
          "iopub.execute_input": "2023-05-11T00:25:22.444789Z",
          "iopub.status.busy": "2023-05-11T00:25:22.444387Z",
          "iopub.status.idle": "2023-05-11T00:25:26.221124Z",
          "shell.execute_reply": "2023-05-11T00:25:26.219946Z"
        },
        "papermill": {
          "duration": 3.800617,
          "end_time": "2023-05-11T00:25:26.224229",
          "exception": false,
          "start_time": "2023-05-11T00:25:22.423612",
          "status": "completed"
        },
        "tags": [],
        "colab": {
          "base_uri": "https://localhost:8080/",
          "height": 853
        },
        "id": "915aceb3",
        "outputId": "e0d45f02-1396-4df0-d593-f48eac18ab02"
      },
      "outputs": [
        {
          "output_type": "display_data",
          "data": {
            "text/plain": [
              "<Figure size 1000x1000 with 12 Axes>"
            ],
            "image/png": "[encoded data removed]"
          },
          "metadata": {}
        }
      ],
      "source": [
        "data.hist(bins=100, figsize=(10,10))\n",
        "plt.show()"
      ]
    },
    {
      "cell_type": "code",
      "execution_count": 287,
      "id": "9ac4454d",
      "metadata": {
        "execution": {
          "iopub.execute_input": "2023-05-11T00:25:27.852079Z",
          "iopub.status.busy": "2023-05-11T00:25:27.851410Z",
          "iopub.status.idle": "2023-05-11T00:25:27.856801Z",
          "shell.execute_reply": "2023-05-11T00:25:27.855969Z"
        },
        "papermill": {
          "duration": 0.032353,
          "end_time": "2023-05-11T00:25:27.859164",
          "exception": false,
          "start_time": "2023-05-11T00:25:27.826811",
          "status": "completed"
        },
        "tags": [],
        "id": "9ac4454d"
      },
      "outputs": [],
      "source": [
        "X=data.drop(\"quality\", axis=1)"
      ]
    },
    {
      "cell_type": "code",
      "execution_count": 288,
      "id": "51ff0b58",
      "metadata": {
        "execution": {
          "iopub.execute_input": "2023-05-11T00:25:28.019260Z",
          "iopub.status.busy": "2023-05-11T00:25:28.018473Z",
          "iopub.status.idle": "2023-05-11T00:25:28.026127Z",
          "shell.execute_reply": "2023-05-11T00:25:28.025139Z"
        },
        "papermill": {
          "duration": 0.036125,
          "end_time": "2023-05-11T00:25:28.028751",
          "exception": false,
          "start_time": "2023-05-11T00:25:27.992626",
          "status": "completed"
        },
        "tags": [],
        "id": "51ff0b58"
      },
      "outputs": [],
      "source": [
        "Y = data[\"quality\"].apply(lambda y_value:1 if y_value>=6.5 else 0)"
      ]
    },
    {
      "cell_type": "code",
      "execution_count": 289,
      "id": "a785877d",
      "metadata": {
        "execution": {
          "iopub.execute_input": "2023-05-11T00:25:28.228097Z",
          "iopub.status.busy": "2023-05-11T00:25:28.227670Z",
          "iopub.status.idle": "2023-05-11T00:25:28.236030Z",
          "shell.execute_reply": "2023-05-11T00:25:28.234907Z"
        },
        "papermill": {
          "duration": 0.036554,
          "end_time": "2023-05-11T00:25:28.238819",
          "exception": false,
          "start_time": "2023-05-11T00:25:28.202265",
          "status": "completed"
        },
        "tags": [],
        "id": "a785877d"
      },
      "outputs": [],
      "source": [
        "X_train, X_test, Y_train, Y_test = train_test_split(X,Y, test_size=0.2, random_state=3)"
      ]
    },
    {
      "cell_type": "code",
      "source": [
        "data_lr = pd.read_csv('/content/drive/MyDrive/Data/Wine.csv')"
      ],
      "metadata": {
        "id": "q3JDqfJn74md"
      },
      "id": "q3JDqfJn74md",
      "execution_count": 290,
      "outputs": []
    },
    {
      "cell_type": "code",
      "source": [
        "data_lr.isnull().sum()"
      ],
      "metadata": {
        "colab": {
          "base_uri": "https://localhost:8080/"
        },
        "id": "vxFEC7is76zI",
        "outputId": "b2cd976a-0e65-4d26-d7fa-ed623e2ea383"
      },
      "id": "vxFEC7is76zI",
      "execution_count": 291,
      "outputs": [
        {
          "output_type": "execute_result",
          "data": {
            "text/plain": [
              "fixed acidity           0\n",
              "volatile acidity        0\n",
              "citric acid             0\n",
              "residual sugar          0\n",
              "chlorides               0\n",
              "free sulfur dioxide     0\n",
              "total sulfur dioxide    0\n",
              "density                 0\n",
              "pH                      0\n",
              "sulphates               0\n",
              "alcohol                 0\n",
              "quality                 0\n",
              "dtype: int64"
            ]
          },
          "metadata": {},
          "execution_count": 291
        }
      ]
    },
    {
      "cell_type": "code",
      "source": [
        "x = data_lr.drop('quality',axis=1)\n",
        "y = data_lr['quality']"
      ],
      "metadata": {
        "id": "4-_wF1EU8Bp2"
      },
      "id": "4-_wF1EU8Bp2",
      "execution_count": 292,
      "outputs": []
    },
    {
      "cell_type": "code",
      "source": [
        "linear_model = LinearRegression()"
      ],
      "metadata": {
        "id": "_R3XRFvb8DGm"
      },
      "id": "_R3XRFvb8DGm",
      "execution_count": 293,
      "outputs": []
    },
    {
      "cell_type": "code",
      "source": [
        "x_train, x_test, y_train, y_test = train_test_split(x, y, test_size=0.3, random_state=101)\n",
        "linear_model.fit(x_train,y_train)\n",
        "pred_train = linear_model.predict(x_train)\n",
        "pred_test = linear_model.predict(x_test)"
      ],
      "metadata": {
        "id": "XcQ-lAlf8HZR"
      },
      "id": "XcQ-lAlf8HZR",
      "execution_count": 294,
      "outputs": []
    },
    {
      "cell_type": "code",
      "source": [
        "error_score_train=metrics.r2_score(y_train,pred_train)\n",
        "error_score_test=metrics.r2_score(y_test,pred_test)"
      ],
      "metadata": {
        "id": "upYqHwUL-TLK"
      },
      "id": "upYqHwUL-TLK",
      "execution_count": 295,
      "outputs": []
    },
    {
      "cell_type": "code",
      "execution_count": 296,
      "id": "b4352e1c",
      "metadata": {
        "execution": {
          "iopub.execute_input": "2023-05-11T00:25:28.497835Z",
          "iopub.status.busy": "2023-05-11T00:25:28.497085Z",
          "iopub.status.idle": "2023-05-11T00:25:28.583196Z",
          "shell.execute_reply": "2023-05-11T00:25:28.581654Z"
        },
        "papermill": {
          "duration": 0.115573,
          "end_time": "2023-05-11T00:25:28.587468",
          "exception": false,
          "start_time": "2023-05-11T00:25:28.471895",
          "status": "completed"
        },
        "tags": [],
        "id": "b4352e1c"
      },
      "outputs": [],
      "source": [
        "logreg = LogisticRegression()\n",
        "logreg.fit(X_train, Y_train)\n",
        "logreg_pred = logreg.predict(X_test)\n",
        "logreg_acc = accuracy_score(logreg_pred, Y_test)"
      ]
    },
    {
      "cell_type": "code",
      "execution_count": 297,
      "id": "4c232f84",
      "metadata": {
        "execution": {
          "iopub.execute_input": "2023-05-11T00:25:28.798907Z",
          "iopub.status.busy": "2023-05-11T00:25:28.798236Z",
          "iopub.status.idle": "2023-05-11T00:25:28.802389Z",
          "shell.execute_reply": "2023-05-11T00:25:28.801590Z"
        },
        "papermill": {
          "duration": 0.031742,
          "end_time": "2023-05-11T00:25:28.804605",
          "exception": false,
          "start_time": "2023-05-11T00:25:28.772863",
          "status": "completed"
        },
        "tags": [],
        "id": "4c232f84"
      },
      "outputs": [],
      "source": [
        "dtree = DecisionTreeClassifier()\n",
        "dtree.fit(X_train, Y_train)\n",
        "dtree_pred = dtree.predict(X_test)\n",
        "dtree_acc = accuracy_score(dtree_pred, Y_test)"
      ]
    },
    {
      "cell_type": "code",
      "execution_count": 298,
      "id": "f51ec3c1",
      "metadata": {
        "execution": {
          "iopub.execute_input": "2023-05-11T00:25:29.037097Z",
          "iopub.status.busy": "2023-05-11T00:25:29.035938Z",
          "iopub.status.idle": "2023-05-11T00:25:29.041492Z",
          "shell.execute_reply": "2023-05-11T00:25:29.040310Z"
        },
        "papermill": {
          "duration": 0.033958,
          "end_time": "2023-05-11T00:25:29.044205",
          "exception": false,
          "start_time": "2023-05-11T00:25:29.010247",
          "status": "completed"
        },
        "tags": [],
        "id": "f51ec3c1"
      },
      "outputs": [],
      "source": [
        "rforest = RandomForestClassifier()\n",
        "rforest.fit(X_train, Y_train)\n",
        "rforest_pred = rforest.predict(X_test)\n",
        "rforest_acc = accuracy_score(rforest_pred, Y_test)"
      ]
    },
    {
      "cell_type": "code",
      "source": [
        "svc = SVC(random_state=42)\n",
        "svc.fit(X_train,Y_train)    \n",
        "svc_pred = svc.predict(X_test)\n",
        "svc_acc = accuracy_score(svc_pred, Y_test)"
      ],
      "metadata": {
        "id": "dxxVDc8VVAH2"
      },
      "id": "dxxVDc8VVAH2",
      "execution_count": 299,
      "outputs": []
    },
    {
      "cell_type": "code",
      "source": [
        "svm = GaussianNB()\n",
        "svm.fit(X_train,Y_train)\n",
        "svm_pred = svm.predict(X_test)\n",
        "svm_acc = accuracy_score(svm_pred, Y_test)"
      ],
      "metadata": {
        "id": "9JI5eBE_Y9nX"
      },
      "id": "9JI5eBE_Y9nX",
      "execution_count": 300,
      "outputs": []
    },
    {
      "cell_type": "code",
      "source": [
        "knn = KNeighborsClassifier(n_neighbors=5)\n",
        "knn.fit(X_train,Y_train)\n",
        "knn_pred = knn.predict(X_test)\n",
        "knn_acc = accuracy_score(knn_pred, Y_test)"
      ],
      "metadata": {
        "id": "I8ykUl2Ohx9D"
      },
      "id": "I8ykUl2Ohx9D",
      "execution_count": 301,
      "outputs": []
    },
    {
      "cell_type": "code",
      "source": [
        "print('Test Accuracy score of Logistic Regression is:..............', logreg_acc*100)\n",
        "print('Test Accuracy score of Decision Tree  is:...................', dtree_acc*100)\n",
        "print('Test Accuracy score of Random Forest is:....................', rforest_acc*100)\n",
        "print('Test Accuracy score of SVC is :.............................', svc_acc*100)\n",
        "print('Test Accuracy score of SVM is:..............................', svm_acc*100)\n",
        "print('Test Accuracy score of KNN is:..............................', knn_acc*100)\n",
        "print('\\nLinear Regression\\nMAE:........................................................',round(metrics.mean_absolute_error(y_train, pred_train)*100,2))\n",
        "print('MSE:........................................................',round(metrics.mean_squared_error(y_train, pred_train)*100,2))\n",
        "print('RMSE:.......................................................',round(np.sqrt(metrics.mean_squared_error(y_train, pred_train))*100,2))\n",
        "print('MAE:........................................................',round(metrics.mean_absolute_error(y_test, pred_test)*100,2))\n",
        "print('MSE:........................................................',round(metrics.mean_squared_error(y_test, pred_test)*100,2))\n",
        "print('RMSE:.......................................................',round(np.sqrt(metrics.mean_squared_error(y_test, pred_test))*100,2))\n",
        "print('R squared error (Train_data):...............................',round(error_score_train*100,2))\n",
        "print('R squared error (Test_data):................................',round(error_score_test*100,2))"
      ],
      "metadata": {
        "id": "VE2f0EfGeX_r",
        "colab": {
          "base_uri": "https://localhost:8080/"
        },
        "outputId": "7f2c6953-12f4-4d5a-e6df-3fc291451b13"
      },
      "id": "VE2f0EfGeX_r",
      "execution_count": 309,
      "outputs": [
        {
          "output_type": "stream",
          "name": "stdout",
          "text": [
            "Test Accuracy score of Logistic Regression is:.............. 90.3125\n",
            "Test Accuracy score of Decision Tree  is:................... 91.875\n",
            "Test Accuracy score of Random Forest is:.................... 94.0625\n",
            "Test Accuracy score of SVC is :............................. 88.4375\n",
            "Test Accuracy score of SVM is:.............................. 85.625\n",
            "Test Accuracy score of KNN is:.............................. 86.875\n",
            "\n",
            "Linear Regression\n",
            "MAE:........................................................ 48.95\n",
            "MSE:........................................................ 38.89\n",
            "RMSE:....................................................... 62.36\n",
            "MAE:........................................................ 53.3\n",
            "MSE:........................................................ 49.09\n",
            "RMSE:....................................................... 70.06\n",
            "R squared error (Train_data):............................... 38.12\n",
            "R squared error (Test_data):................................ 30.36\n"
          ]
        }
      ]
    }
  ],
  "metadata": {
    "kernelspec": {
      "display_name": "Python 3",
      "language": "python",
      "name": "python3"
    },
    "language_info": {
      "codemirror_mode": {
        "name": "ipython",
        "version": 3
      },
      "file_extension": ".py",
      "mimetype": "text/x-python",
      "name": "python",
      "nbconvert_exporter": "python",
      "pygments_lexer": "ipython3",
      "version": "3.10.10"
    },
    "papermill": {
      "default_parameters": {},
      "duration": 27.477842,
      "end_time": "2023-05-11T00:25:31.539077",
      "environment_variables": {},
      "exception": null,
      "input_path": "__notebook__.ipynb",
      "output_path": "__notebook__.ipynb",
      "parameters": {},
      "start_time": "2023-05-11T00:25:04.061235",
      "version": "2.4.0"
    },
    "colab": {
      "provenance": [],
      "include_colab_link": true
    }
  },
  "nbformat": 4,
  "nbformat_minor": 5
}