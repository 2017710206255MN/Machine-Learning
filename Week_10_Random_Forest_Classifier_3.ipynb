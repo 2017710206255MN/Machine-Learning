{
  "metadata": {
    "kernelspec": {
      "language": "python",
      "display_name": "Python 3",
      "name": "python3"
    },
    "language_info": {
      "name": "python",
      "version": "3.10.10",
      "mimetype": "text/x-python",
      "codemirror_mode": {
        "name": "ipython",
        "version": 3
      },
      "pygments_lexer": "ipython3",
      "nbconvert_exporter": "python",
      "file_extension": ".py"
    },
    "colab": {
      "provenance": [],
      "include_colab_link": true
    }
  },
  "nbformat_minor": 0,
  "nbformat": 4,
  "cells": [
    {
      "cell_type": "markdown",
      "metadata": {
        "id": "view-in-github",
        "colab_type": "text"
      },
      "source": [
        "<a href=\"https://colab.research.google.com/github/2017710206255MN/Machine-Learning/blob/main/Week_10_Random_Forest_Classifier_3.ipynb\" target=\"_parent\"><img src=\"https://colab.research.google.com/assets/colab-badge.svg\" alt=\"Open In Colab\"/></a>"
      ]
    },
    {
      "cell_type": "code",
      "source": [
        "import pandas as pd\n",
        "import matplotlib.pyplot as plt\n",
        "import numpy as np\n",
        "from google.colab import drive\n",
        "drive.mount('/content/drive')"
      ],
      "metadata": {
        "execution": {
          "iopub.status.busy": "2023-05-11T17:45:27.256488Z",
          "iopub.execute_input": "2023-05-11T17:45:27.256849Z",
          "iopub.status.idle": "2023-05-11T17:45:27.261524Z",
          "shell.execute_reply.started": "2023-05-11T17:45:27.256819Z",
          "shell.execute_reply": "2023-05-11T17:45:27.260486Z"
        },
        "trusted": true,
        "colab": {
          "base_uri": "https://localhost:8080/"
        },
        "id": "9uR3GP-874KT",
        "outputId": "1c956a01-21db-4d9d-f730-78b37a56328b"
      },
      "execution_count": 1,
      "outputs": [
        {
          "output_type": "stream",
          "name": "stdout",
          "text": [
            "Mounted at /content/drive\n"
          ]
        }
      ]
    },
    {
      "cell_type": "code",
      "source": [
        "data = pd.read_csv('/content/drive/MyDrive/Data/rfcdta.csv', header=None)\n",
        "print(data.info())\n",
        "print(data.head())"
      ],
      "metadata": {
        "execution": {
          "iopub.status.busy": "2023-05-11T17:45:51.762935Z",
          "iopub.execute_input": "2023-05-11T17:45:51.763342Z",
          "iopub.status.idle": "2023-05-11T17:45:51.784277Z",
          "shell.execute_reply.started": "2023-05-11T17:45:51.763294Z",
          "shell.execute_reply": "2023-05-11T17:45:51.783249Z"
        },
        "trusted": true,
        "colab": {
          "base_uri": "https://localhost:8080/"
        },
        "id": "vrjiMMoP74Kv",
        "outputId": "37dbc057-24bd-46fe-bc67-2cc61f626316"
      },
      "execution_count": 2,
      "outputs": [
        {
          "output_type": "stream",
          "name": "stdout",
          "text": [
            "<class 'pandas.core.frame.DataFrame'>\n",
            "RangeIndex: 10 entries, 0 to 9\n",
            "Data columns (total 2 columns):\n",
            " #   Column  Non-Null Count  Dtype\n",
            "---  ------  --------------  -----\n",
            " 0   0       10 non-null     int64\n",
            " 1   1       10 non-null     int64\n",
            "dtypes: int64(2)\n",
            "memory usage: 288.0 bytes\n",
            "None\n",
            "   0    1\n",
            "0  1  100\n",
            "1  2   80\n",
            "2  3   70\n",
            "3  4   60\n",
            "4  5   60\n"
          ]
        }
      ]
    },
    {
      "cell_type": "code",
      "source": [
        "x = data.iloc[:,0].values.reshape(-1,1)\n",
        "y = data.iloc[:,1].values.reshape(-1,1)"
      ],
      "metadata": {
        "execution": {
          "iopub.status.busy": "2023-05-11T17:45:57.985609Z",
          "iopub.execute_input": "2023-05-11T17:45:57.986494Z",
          "iopub.status.idle": "2023-05-11T17:45:57.990976Z",
          "shell.execute_reply.started": "2023-05-11T17:45:57.986460Z",
          "shell.execute_reply": "2023-05-11T17:45:57.990345Z"
        },
        "trusted": true,
        "id": "tpB7XQRN74K5"
      },
      "execution_count": 3,
      "outputs": []
    },
    {
      "cell_type": "code",
      "source": [
        "from sklearn.ensemble import RandomForestRegressor\n",
        "rf = RandomForestRegressor(n_estimators = 100, random_state= 42) \n",
        "rf.fit(x,y)\n",
        "\n",
        "print(\"7.8 seviyesinde fiyatın ne kadar olduğu: \",rf.predict(np.array([7.8]).reshape(-1,1)))\n",
        "\n",
        "x_ = np.arange(min(x),max(x),0.01).reshape(-1,1)\n",
        "y_head = rf.predict(x_)"
      ],
      "metadata": {
        "execution": {
          "iopub.status.busy": "2023-05-11T17:46:02.149135Z",
          "iopub.execute_input": "2023-05-11T17:46:02.149760Z",
          "iopub.status.idle": "2023-05-11T17:46:03.248724Z",
          "shell.execute_reply.started": "2023-05-11T17:46:02.149726Z",
          "shell.execute_reply": "2023-05-11T17:46:03.247612Z"
        },
        "trusted": true,
        "colab": {
          "base_uri": "https://localhost:8080/"
        },
        "id": "18p6v59G74K8",
        "outputId": "bd601ce5-b828-4619-a993-0bef54787eac"
      },
      "execution_count": 4,
      "outputs": [
        {
          "output_type": "stream",
          "name": "stderr",
          "text": [
            "<ipython-input-4-a0b8fa862724>:3: DataConversionWarning: A column-vector y was passed when a 1d array was expected. Please change the shape of y to (n_samples,), for example using ravel().\n",
            "  rf.fit(x,y)\n"
          ]
        },
        {
          "output_type": "stream",
          "name": "stdout",
          "text": [
            "7.8 seviyesinde fiyatın ne kadar olduğu:  [22.7]\n"
          ]
        }
      ]
    },
    {
      "cell_type": "code",
      "source": [
        "# visualize\n",
        "plt.scatter(x,y,color=\"red\")\n",
        "plt.plot(x_,y_head,color=\"green\")\n",
        "plt.xlabel(\"feature\")\n",
        "plt.ylabel(\"label\")\n",
        "plt.show()"
      ],
      "metadata": {
        "execution": {
          "iopub.status.busy": "2023-05-11T17:46:06.614086Z",
          "iopub.execute_input": "2023-05-11T17:46:06.615058Z",
          "iopub.status.idle": "2023-05-11T17:46:07.003815Z",
          "shell.execute_reply.started": "2023-05-11T17:46:06.615009Z",
          "shell.execute_reply": "2023-05-11T17:46:07.002707Z"
        },
        "trusted": true,
        "colab": {
          "base_uri": "https://localhost:8080/",
          "height": 449
        },
        "id": "HC-PAJEx74LC",
        "outputId": "3f241bb1-22d0-4709-bcb8-03846ba98907"
      },
      "execution_count": 5,
      "outputs": [
        {
          "output_type": "display_data",
          "data": {
            "text/plain": [
              "<Figure size 640x480 with 1 Axes>"
            ],
            "image/png": "[encoded data removed]"
          },
          "metadata": {}
        }
      ]
    }
  ]
}