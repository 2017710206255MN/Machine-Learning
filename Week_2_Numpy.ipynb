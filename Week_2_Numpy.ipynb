{
  "cells": [
    {
      "cell_type": "markdown",
      "metadata": {
        "id": "view-in-github",
        "colab_type": "text"
      },
      "source": [
        "<a href=\"https://colab.research.google.com/github/2017710206255MN/Machine-Learning/blob/main/Week_2_Numpy.ipynb\" target=\"_parent\"><img src=\"https://colab.research.google.com/assets/colab-badge.svg\" alt=\"Open In Colab\"/></a>"
      ]
    },
    {
      "cell_type": "code",
      "execution_count": 1,
      "id": "7ef60fd6",
      "metadata": {
        "id": "7ef60fd6"
      },
      "outputs": [],
      "source": [
        "import numpy as np "
      ]
    },
    {
      "cell_type": "code",
      "execution_count": 2,
      "id": "da7e7a3a",
      "metadata": {
        "colab": {
          "base_uri": "https://localhost:8080/"
        },
        "id": "da7e7a3a",
        "outputId": "2bc16c1d-45d3-4e5d-f35a-22585be3908c"
      },
      "outputs": [
        {
          "output_type": "stream",
          "name": "stdout",
          "text": [
            "[1 2 3 4 5]\n"
          ]
        }
      ],
      "source": [
        "array = np.array([1,2,3,4,5]) # creating\n",
        "print(array)"
      ]
    },
    {
      "cell_type": "code",
      "execution_count": 3,
      "id": "429ea82a",
      "metadata": {
        "colab": {
          "base_uri": "https://localhost:8080/"
        },
        "id": "429ea82a",
        "outputId": "d17cafe4-9adb-4b31-8497-133e9bcf2f6b"
      },
      "outputs": [
        {
          "output_type": "stream",
          "name": "stdout",
          "text": [
            "(15,)\n"
          ]
        }
      ],
      "source": [
        "array2 = np.array([1,2,3,4,5,6,7,8,9,10,11,12,13,14,15]) # shape of array\n",
        "print(array2.shape) "
      ]
    },
    {
      "cell_type": "code",
      "execution_count": 4,
      "id": "fb7385eb",
      "metadata": {
        "colab": {
          "base_uri": "https://localhost:8080/"
        },
        "id": "fb7385eb",
        "outputId": "d683fc54-5482-42f2-dd4f-e69676801db8"
      },
      "outputs": [
        {
          "output_type": "stream",
          "name": "stdout",
          "text": [
            "[[ 1  2  3  4  5]\n",
            " [ 6  7  8  9 10]\n",
            " [11 12 13 14 15]]\n"
          ]
        }
      ],
      "source": [
        "array3 = array2.reshape(3,5) # reshape the array,we have to save new variable becasue it is temporary.\n",
        "print(array3)"
      ]
    },
    {
      "cell_type": "code",
      "execution_count": 6,
      "id": "6fb38831",
      "metadata": {
        "colab": {
          "base_uri": "https://localhost:8080/"
        },
        "id": "6fb38831",
        "outputId": "3c3355fc-e7ed-44b0-ec58-7cc6c829f9b1"
      },
      "outputs": [
        {
          "output_type": "stream",
          "name": "stdout",
          "text": [
            "shape:  (3, 5)\n",
            "dimension:  2\n",
            "data type:  int64\n",
            "size:  15\n",
            "type <class 'numpy.ndarray'>\n"
          ]
        }
      ],
      "source": [
        "print(\"shape: \",array3.shape) #(3, 5)\n",
        "\n",
        "print(\"dimension: \",array3.ndim) #dimension:  2\n",
        "\n",
        "print(\"data type: \",array3.dtype.name) #data type:  int32\n",
        "\n",
        "print(\"size: \",array3.size) #size:  15, shape before reshape\n",
        "                       \n",
        "print(\"type\",type(array3))  #type <class 'numpy.ndarray'>"
      ]
    },
    {
      "cell_type": "code",
      "execution_count": 7,
      "id": "74686d8b",
      "metadata": {
        "id": "74686d8b"
      },
      "outputs": [],
      "source": [
        "array3 = np.array([[1,2,3,4],[5,6,7,8],[9,10,11,12]]) #reshape dimension without using reshape method."
      ]
    },
    {
      "cell_type": "code",
      "execution_count": 8,
      "id": "61d93f0c",
      "metadata": {
        "colab": {
          "base_uri": "https://localhost:8080/"
        },
        "id": "61d93f0c",
        "outputId": "5ceeacaf-5936-4ad6-9339-302082846d69"
      },
      "outputs": [
        {
          "output_type": "stream",
          "name": "stdout",
          "text": [
            "[[ 1  2  3  4]\n",
            " [ 5  6  7  8]\n",
            " [ 9 10 11 12]]\n"
          ]
        }
      ],
      "source": [
        "print(array3) #array([[ 1,  2,  3,  4],\n",
        "                     #[ 5,  6,  7,  8],\n",
        "                     #[ 9, 10, 11, 12]])"
      ]
    },
    {
      "cell_type": "code",
      "execution_count": 9,
      "id": "f9cdcf44",
      "metadata": {
        "colab": {
          "base_uri": "https://localhost:8080/"
        },
        "id": "f9cdcf44",
        "outputId": "14dd5230-37a1-4928-df6a-7ab5250b5fa6"
      },
      "outputs": [
        {
          "output_type": "stream",
          "name": "stdout",
          "text": [
            "(3, 4)\n"
          ]
        }
      ],
      "source": [
        "print(array3.shape) #(3, 4)"
      ]
    },
    {
      "cell_type": "code",
      "execution_count": 12,
      "id": "eba3ca15",
      "metadata": {
        "id": "eba3ca15"
      },
      "outputs": [],
      "source": [
        "zeros= np.zeros((3,4)) #3 rows and 4 columns zero array"
      ]
    },
    {
      "cell_type": "code",
      "execution_count": 13,
      "id": "4fadbd03",
      "metadata": {
        "colab": {
          "base_uri": "https://localhost:8080/"
        },
        "id": "4fadbd03",
        "outputId": "6cbc654b-8f4e-4de5-9a6a-61d42af9ac05"
      },
      "outputs": [
        {
          "output_type": "stream",
          "name": "stdout",
          "text": [
            "[[5. 0. 0. 0.]\n",
            " [0. 0. 0. 0.]\n",
            " [0. 0. 0. 0.]]\n"
          ]
        }
      ],
      "source": [
        "zeros[0,0]=5\n",
        "print(zeros)"
      ]
    },
    {
      "cell_type": "code",
      "execution_count": 15,
      "id": "4fce2668",
      "metadata": {
        "colab": {
          "base_uri": "https://localhost:8080/"
        },
        "id": "4fce2668",
        "outputId": "68c78498-18e0-4b21-8b9b-2ea6337ea351"
      },
      "outputs": [
        {
          "output_type": "execute_result",
          "data": {
            "text/plain": [
              "array([[1., 1., 1., 1.],\n",
              "       [1., 1., 1., 1.],\n",
              "       [1., 1., 1., 1.]])"
            ]
          },
          "metadata": {},
          "execution_count": 15
        }
      ],
      "source": [
        "np.ones((3,4)) #1"
      ]
    },
    {
      "cell_type": "code",
      "execution_count": 17,
      "id": "8d657390",
      "metadata": {
        "colab": {
          "base_uri": "https://localhost:8080/"
        },
        "id": "8d657390",
        "outputId": "981b0158-ec17-49e1-87e6-9ee535001036"
      },
      "outputs": [
        {
          "output_type": "execute_result",
          "data": {
            "text/plain": [
              "array([[0. , 0. , 0.3, 1. , 0. ],\n",
              "       [0. , 1. , 1. , 1. , 1. ],\n",
              "       [1. , 1. , 1. , 0. , 0. ],\n",
              "       [1. , 0.5, 0. , 0. , 1. ]])"
            ]
          },
          "metadata": {},
          "execution_count": 17
        }
      ],
      "source": [
        "np.empty((4,5)) #emphty"
      ]
    },
    {
      "cell_type": "code",
      "execution_count": 18,
      "id": "4cb8474a",
      "metadata": {
        "colab": {
          "base_uri": "https://localhost:8080/"
        },
        "id": "4cb8474a",
        "outputId": "411d4670-1fd6-4414-90a0-265acfc9110e"
      },
      "outputs": [
        {
          "output_type": "execute_result",
          "data": {
            "text/plain": [
              "array([10, 15, 20, 25, 30, 35, 40, 45])"
            ]
          },
          "metadata": {},
          "execution_count": 18
        }
      ],
      "source": [
        "np.arange(10,50,5) #creates an array with between 10 and 50 numbers and step size 5"
      ]
    },
    {
      "cell_type": "code",
      "execution_count": 19,
      "id": "7b29c1c4",
      "metadata": {
        "colab": {
          "base_uri": "https://localhost:8080/"
        },
        "id": "7b29c1c4",
        "outputId": "bf566dc3-60ac-409d-931e-567b99ff01e3"
      },
      "outputs": [
        {
          "output_type": "stream",
          "name": "stdout",
          "text": [
            "[ 0.          0.52631579  1.05263158  1.57894737  2.10526316  2.63157895\n",
            "  3.15789474  3.68421053  4.21052632  4.73684211  5.26315789  5.78947368\n",
            "  6.31578947  6.84210526  7.36842105  7.89473684  8.42105263  8.94736842\n",
            "  9.47368421 10.        ]\n"
          ]
        }
      ],
      "source": [
        "a= np.linspace(0,10,20) #20 numbers between 0 and 10 are printed.\n",
        "#array([ 0.        ,  0.52631579,  1.05263158,  1.57894737,  2.10526316,\n",
        "#       2.63157895,  3.15789474,  3.68421053,  4.21052632,  4.73684211,\n",
        "#       5.26315789,  5.78947368,  6.31578947,  6.84210526,  7.36842105,\n",
        "#       7.89473684,  8.42105263,  8.94736842,  9.47368421, 10.        ])\n",
        "print(a)"
      ]
    },
    {
      "cell_type": "code",
      "execution_count": 28,
      "id": "daa5de41",
      "metadata": {
        "colab": {
          "base_uri": "https://localhost:8080/"
        },
        "id": "daa5de41",
        "outputId": "630f2ef9-8032-458d-a4eb-573ea24be514"
      },
      "outputs": [
        {
          "output_type": "stream",
          "name": "stdout",
          "text": [
            "[5 7 9]\n",
            "[1 4 9]\n"
          ]
        }
      ],
      "source": [
        "#numpy basic operations\n",
        "a = np.array([1,2,3])\n",
        "b = np.array([4,5,6]) \n",
        "\n",
        "print(a+b) #[5 7 9]\n",
        "print(a**2) #[1 4 9]"
      ]
    },
    {
      "cell_type": "code",
      "execution_count": 23,
      "id": "ac5cb7ae",
      "metadata": {
        "id": "ac5cb7ae"
      },
      "outputs": [],
      "source": [
        "a = np.array([1,2,3,4,5,6,7]) #vektor -> dimension 1"
      ]
    },
    {
      "cell_type": "code",
      "execution_count": 29,
      "id": "81298b9a",
      "metadata": {
        "colab": {
          "base_uri": "https://localhost:8080/"
        },
        "id": "81298b9a",
        "outputId": "fdeb6a5c-736b-4753-912c-d6f24c21db7c"
      },
      "outputs": [
        {
          "output_type": "stream",
          "name": "stdout",
          "text": [
            "[1, 2, 3, 4]\n",
            "[5 6 7 8]\n"
          ]
        }
      ],
      "source": [
        "list_ = [1,2,3,4]\n",
        "array = np.array([5,6,7,8])\n",
        "print(list_)\n",
        "print(array)"
      ]
    },
    {
      "cell_type": "code",
      "execution_count": 33,
      "id": "9f3760ac",
      "metadata": {
        "colab": {
          "base_uri": "https://localhost:8080/"
        },
        "id": "9f3760ac",
        "outputId": "cc291977-0010-430e-9301-007f47d7db20"
      },
      "outputs": [
        {
          "output_type": "stream",
          "name": "stdout",
          "text": [
            "[1 2 3 4]\n"
          ]
        }
      ],
      "source": [
        "array = np.array(list_) #convert list to array\n",
        "print(array)"
      ]
    },
    {
      "cell_type": "code",
      "execution_count": 37,
      "id": "4ba9224e",
      "metadata": {
        "colab": {
          "base_uri": "https://localhost:8080/"
        },
        "id": "4ba9224e",
        "outputId": "b75d30bc-723d-410f-c9b2-3132147febea"
      },
      "outputs": [
        {
          "output_type": "stream",
          "name": "stdout",
          "text": [
            "[1 2 3]\n"
          ]
        }
      ],
      "source": [
        "a = np.array([1,2,3])\n",
        "print(a)"
      ]
    },
    {
      "cell_type": "code",
      "execution_count": 38,
      "id": "131551f1",
      "metadata": {
        "colab": {
          "base_uri": "https://localhost:8080/"
        },
        "id": "131551f1",
        "outputId": "c28caed1-6dc4-4ede-b45d-7cc8df2335ba"
      },
      "outputs": [
        {
          "output_type": "stream",
          "name": "stdout",
          "text": [
            "[5 2 3] [5 2 3] [5 2 3]\n"
          ]
        }
      ],
      "source": [
        "b=a\n",
        "\n",
        "c=a\n",
        "\n",
        "b[0]=5 \n",
        "print(a,b,c) # in the same memory area"
      ]
    },
    {
      "cell_type": "code",
      "execution_count": 39,
      "id": "5a764d65",
      "metadata": {
        "id": "5a764d65"
      },
      "outputs": [],
      "source": [
        "d = a.copy() # different memeory area"
      ]
    },
    {
      "cell_type": "code",
      "execution_count": 40,
      "id": "ee1dc9a2",
      "metadata": {
        "colab": {
          "base_uri": "https://localhost:8080/"
        },
        "id": "ee1dc9a2",
        "outputId": "6cda0e36-b7a8-4468-e481-f1271dddee7e"
      },
      "outputs": [
        {
          "output_type": "stream",
          "name": "stdout",
          "text": [
            "[1 2 3 4 5 6 7]\n"
          ]
        }
      ],
      "source": [
        "a = np.array([1,2,3,4,5,6,7]) #vector -> dimension 1\n",
        "print(a)"
      ]
    },
    {
      "cell_type": "code",
      "execution_count": 41,
      "id": "d55bf793",
      "metadata": {
        "colab": {
          "base_uri": "https://localhost:8080/"
        },
        "id": "d55bf793",
        "outputId": "51bc23a2-ac14-4869-a404-aef1061a36e1"
      },
      "outputs": [
        {
          "output_type": "stream",
          "name": "stdout",
          "text": [
            "1\n"
          ]
        }
      ],
      "source": [
        "print(a[0]) "
      ]
    },
    {
      "cell_type": "code",
      "execution_count": null,
      "id": "26b8d670",
      "metadata": {
        "id": "26b8d670",
        "outputId": "de49bbc5-22cb-4f43-c01b-2b76cf7246f3"
      },
      "outputs": [
        {
          "name": "stdout",
          "output_type": "stream",
          "text": [
            "[1 2 3 4]\n"
          ]
        }
      ],
      "source": [
        "print(a[0:4]) # 0-4 elmenets"
      ]
    },
    {
      "cell_type": "code",
      "execution_count": 42,
      "id": "b3d05df4",
      "metadata": {
        "colab": {
          "base_uri": "https://localhost:8080/"
        },
        "id": "b3d05df4",
        "outputId": "302f7c78-af35-4bdb-c1eb-ebebdc8cf0bc"
      },
      "outputs": [
        {
          "output_type": "stream",
          "name": "stdout",
          "text": [
            "[7 6 5 4 3 2 1]\n"
          ]
        }
      ],
      "source": [
        "reverse_array = a[::-1] #reverse array.\n",
        "print(reverse_array)"
      ]
    },
    {
      "cell_type": "code",
      "execution_count": 43,
      "id": "788d2140",
      "metadata": {
        "colab": {
          "base_uri": "https://localhost:8080/"
        },
        "id": "788d2140",
        "outputId": "73fb391e-ddff-445d-8db5-a7b2e8073a92"
      },
      "outputs": [
        {
          "output_type": "stream",
          "name": "stdout",
          "text": [
            "[[ 1  2  3  4  5]\n",
            " [ 6  7  8  9 10]]\n"
          ]
        }
      ],
      "source": [
        "b = np.array([[1,2,3,4,5],[6,7,8,9,10]]) \n",
        "print(b)"
      ]
    },
    {
      "cell_type": "code",
      "execution_count": 46,
      "id": "75d62246",
      "metadata": {
        "colab": {
          "base_uri": "https://localhost:8080/"
        },
        "id": "75d62246",
        "outputId": "12af04cf-6f75-4257-9182-6d7784ac4608"
      },
      "outputs": [
        {
          "output_type": "stream",
          "name": "stdout",
          "text": [
            "7\n",
            "[2 7]\n",
            "[ 6  7  8  9 10]\n",
            "[7 8 9]\n",
            "[ 6  7  8  9 10]\n",
            "[ 5 10]\n"
          ]
        }
      ],
      "source": [
        "print(b[1,1]) #1st row and first column value\n",
        "\n",
        "print(b[:,1]) #all rows but second column. [2 7]\n",
        "\n",
        "print(b[1,:]) #second row. [ 6  7  8  9 10]\n",
        "\n",
        "print(b[1,1:4]) #2.row  2. 3. 4. columns. [7 8 9]\n",
        "\n",
        "print(b[-1,:]) #last row and all colums. [ 6  7  8  9 10]\n",
        "\n",
        "print(b[:,-1]) #last columns and all rows. [ 5 10]"
      ]
    },
    {
      "cell_type": "code",
      "execution_count": 47,
      "id": "339ffdd3",
      "metadata": {
        "colab": {
          "base_uri": "https://localhost:8080/"
        },
        "id": "339ffdd3",
        "outputId": "c56ea6f7-9f47-4a03-e79d-7181bd72fd6a"
      },
      "outputs": [
        {
          "output_type": "stream",
          "name": "stdout",
          "text": [
            "[[1 2 3]\n",
            " [4 5 6]\n",
            " [7 8 9]]\n"
          ]
        }
      ],
      "source": [
        "array = np.array([[1,2,3],[4,5,6],[7,8,9]]) #3*3 array.\n",
        "print(array)"
      ]
    },
    {
      "cell_type": "code",
      "execution_count": 48,
      "id": "b7065191",
      "metadata": {
        "colab": {
          "base_uri": "https://localhost:8080/"
        },
        "id": "b7065191",
        "outputId": "1d7cdf92-ab0c-4fe1-92d9-6b5b7c3637e5"
      },
      "outputs": [
        {
          "output_type": "stream",
          "name": "stdout",
          "text": [
            "[1 2 3 4 5 6 7 8 9]\n"
          ]
        }
      ],
      "source": [
        "a = array.ravel() #convert to one dimension.\n",
        "print(a)"
      ]
    },
    {
      "cell_type": "code",
      "execution_count": 49,
      "id": "324055eb",
      "metadata": {
        "colab": {
          "base_uri": "https://localhost:8080/"
        },
        "id": "324055eb",
        "outputId": "52deffd8-ee94-492d-8eb2-0e38420da654"
      },
      "outputs": [
        {
          "output_type": "stream",
          "name": "stdout",
          "text": [
            "[[1 2 3]\n",
            " [4 5 6]\n",
            " [7 8 9]]\n"
          ]
        }
      ],
      "source": [
        "array2 = a.reshape(3,3) #again 3*3 array.\n",
        "print(array2)"
      ]
    },
    {
      "cell_type": "code",
      "execution_count": 51,
      "id": "83ed3932",
      "metadata": {
        "colab": {
          "base_uri": "https://localhost:8080/"
        },
        "id": "83ed3932",
        "outputId": "5150278f-046e-4bf7-8a5f-39eb5f3fbe27"
      },
      "outputs": [
        {
          "output_type": "stream",
          "name": "stdout",
          "text": [
            "[[1 4 7]\n",
            " [2 5 8]\n",
            " [3 6 9]]\n"
          ]
        }
      ],
      "source": [
        "array_transpose = array2.T #transpose of array\n",
        "                           #array([[1, 4, 7],\n",
        "                                  #[2, 5, 8],\n",
        "                                  #[3, 6, 9]])\n",
        "print(array_transpose)"
      ]
    },
    {
      "cell_type": "code",
      "execution_count": 52,
      "id": "e5592d5b",
      "metadata": {
        "colab": {
          "base_uri": "https://localhost:8080/"
        },
        "id": "e5592d5b",
        "outputId": "3c7f7770-1db0-4625-ac2f-18a5066a2919"
      },
      "outputs": [
        {
          "output_type": "stream",
          "name": "stdout",
          "text": [
            "[[1 2]\n",
            " [3 4]\n",
            " [5 6]]\n"
          ]
        }
      ],
      "source": [
        "array3 = np.array([[1,2],[3,4],[5,6]])\n",
        "print(array3)"
      ]
    },
    {
      "cell_type": "code",
      "execution_count": 53,
      "id": "2be4d202",
      "metadata": {
        "colab": {
          "base_uri": "https://localhost:8080/"
        },
        "id": "2be4d202",
        "outputId": "f90de0c7-1fd1-428b-fd7f-440b34a53c8c"
      },
      "outputs": [
        {
          "output_type": "stream",
          "name": "stdout",
          "text": [
            "[[1 2 3]\n",
            " [4 5 6]]\n"
          ]
        }
      ],
      "source": [
        "array3.resize((2,3)) #change dimension of array, permenantly\n",
        "print(array3)"
      ]
    }
  ],
  "metadata": {
    "kernelspec": {
      "display_name": "Python 3 (ipykernel)",
      "language": "python",
      "name": "python3"
    },
    "language_info": {
      "codemirror_mode": {
        "name": "ipython",
        "version": 3
      },
      "file_extension": ".py",
      "mimetype": "text/x-python",
      "name": "python",
      "nbconvert_exporter": "python",
      "pygments_lexer": "ipython3",
      "version": "3.9.12"
    },
    "colab": {
      "provenance": [],
      "include_colab_link": true
    }
  },
  "nbformat": 4,
  "nbformat_minor": 5
}